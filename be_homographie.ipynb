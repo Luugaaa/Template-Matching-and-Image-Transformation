{
 "cells": [
  {
   "attachments": {},
   "cell_type": "markdown",
   "metadata": {},
   "source": [
    "# Homography"
   ]
  },
  {
   "attachments": {},
   "cell_type": "markdown",
   "metadata": {},
   "source": [
    "## Librairies"
   ]
  },
  {
   "cell_type": "code",
   "execution_count": 1,
   "metadata": {},
   "outputs": [],
   "source": [
    "from PIL import Image\n",
    "import numpy as np\n",
    "from time import time"
   ]
  },
  {
   "attachments": {},
   "cell_type": "markdown",
   "metadata": {},
   "source": [
    "## Images et matrices"
   ]
  },
  {
   "cell_type": "code",
   "execution_count": 2,
   "metadata": {},
   "outputs": [],
   "source": [
    "simp = Image.open('simpsons.jpeg')\n",
    "bus = Image.open('bus.jpeg')\n",
    "simp_mat = np.array(simp)\n",
    "bus_mat = np.array(bus)"
   ]
  },
  {
   "attachments": {},
   "cell_type": "markdown",
   "metadata": {},
   "source": [
    "## Fonction basée sur Tkinter pour sélectionner les coins de l'affiche"
   ]
  },
  {
   "cell_type": "code",
   "execution_count": 3,
   "metadata": {},
   "outputs": [],
   "source": [
    "import tkinter as tk\n",
    "from PIL import Image, ImageTk\n",
    "\n",
    "class PointSelector:\n",
    "    def __init__(self, image_path):\n",
    "        self.image = Image.open(image_path)\n",
    "        self.root = tk.Tk()\n",
    "        self.root.title(\"Point Selector\")\n",
    "        self.canvas = tk.Canvas(self.root, width=self.image.width, height=self.image.height)\n",
    "        self.canvas.pack()\n",
    "        self.photo = ImageTk.PhotoImage(self.image)\n",
    "        self.canvas.create_image(0, 0, image=self.photo, anchor=tk.NW)\n",
    "        self.points = []\n",
    "        self.canvas.bind(\"<Button-1>\", self.on_click)\n",
    "        \n",
    "        self.quit_button = tk.Button(self.root, text=\"Quitter\", command=self.root.quit)\n",
    "        self.quit_button.pack()\n",
    "        \n",
    "        self.root.mainloop()\n",
    "\n",
    "    def on_click(self, event):\n",
    "        x, y = event.x, event.y\n",
    "        self.points.append((x, y))\n",
    "        self.canvas.create_oval(x - 3, y - 3, x + 3, y + 3, fill=\"red\")\n",
    "        print(f\"Point sélectionné: x : {y}, y : {x}\") ## x et y sont inversés dans numpy"
   ]
  },
  {
   "cell_type": "code",
   "execution_count": 4,
   "metadata": {},
   "outputs": [
    {
     "name": "stdout",
     "output_type": "stream",
     "text": [
      "Point sélectionné: x : 210, y : 584\n",
      "Point sélectionné: x : 232, y : 798\n",
      "Point sélectionné: x : 469, y : 808\n",
      "Point sélectionné: x : 520, y : 595\n"
     ]
    },
    {
     "data": {
      "text/plain": [
       "<__main__.PointSelector at 0x1141be050>"
      ]
     },
     "execution_count": 4,
     "metadata": {},
     "output_type": "execute_result"
    }
   ],
   "source": [
    "PointSelector('bus.jpeg')"
   ]
  },
  {
   "attachments": {},
   "cell_type": "markdown",
   "metadata": {},
   "source": [
    "## Résolution du système d'équation par la méthode des moindres carrés"
   ]
  },
  {
   "cell_type": "code",
   "execution_count": 5,
   "metadata": {},
   "outputs": [],
   "source": [
    "### Méthode des moindres carrés\n",
    "x1, y1 = 0,0\n",
    "x2, y2 = 0, simp_mat.shape[1]\n",
    "x3, y3 = simp_mat.shape[0], simp_mat.shape[1]\n",
    "x4, y4 = simp_mat.shape[0], 0\n",
    "coo = [[x1, y1], [x2, y2], [x3, y3], [x4, y4]]\n",
    "\n",
    "xt1, yt1 = 210, 583\n",
    "xt2, yt2 = 231, 799\n",
    "xt3, yt3 = 469, 809\n",
    "xt4, yt4 = 520, 597\n",
    "coot = [[xt1, yt1], [xt2, yt2], [xt3, yt3], [xt4, yt4]]\n",
    "\n",
    "\n",
    "T = []\n",
    "for i in range(len(coo)):\n",
    "    T.append([coo[i][0], coo[i][1], 1, 0, 0, 0, -coo[i][0]*coot[i][0], -coo[i][1]*coot[i][0]])\n",
    "    T.append([0, 0, 0, coo[i][0], coo[i][1], 1, -coo[i][0]*coot[i][1], -coo[i][1]*coot[i][1]])\n",
    "T = np.array(T)"
   ]
  },
  {
   "cell_type": "code",
   "execution_count": 6,
   "metadata": {},
   "outputs": [
    {
     "name": "stdout",
     "output_type": "stream",
     "text": [
      "[[2.08244712e-01 9.11076796e-02 2.10000000e+02]\n",
      " [1.11450509e-02 4.58493662e-01 5.83000000e+02]\n",
      " [3.03470287e-06 3.03496449e-04 1.00000000e+00]]\n"
     ]
    }
   ],
   "source": [
    "B = np.array(np.meshgrid(np.array(coot)))\n",
    "H = np.dot(np.dot(np.linalg.inv(np.dot(np.transpose(T), T)), np.transpose(T)), np.transpose(B))\n",
    "H = np.append(H,1)\n",
    "H = H.reshape((3,3))\n",
    "print(H)"
   ]
  },
  {
   "attachments": {},
   "cell_type": "markdown",
   "metadata": {},
   "source": [
    "## Question 2 : Homography de simpson vers bus"
   ]
  },
  {
   "attachments": {},
   "cell_type": "markdown",
   "metadata": {},
   "source": [
    "### Fonction d'homography"
   ]
  },
  {
   "cell_type": "code",
   "execution_count": 7,
   "metadata": {},
   "outputs": [],
   "source": [
    "def homography(source, destination, matrice):\n",
    "    for i in range(source.shape[0]):\n",
    "        for j in range(source.shape[1]):\n",
    "            coo = np.dot(matrice, np.array([i,j,1]))\n",
    "            x,y = int(coo[0]/coo[2]), int(coo[1]/coo[2])\n",
    "            destination[x, y] = source[i, j]\n",
    "                \n",
    "    destination = destination/np.max(destination)*255\n",
    "    return destination"
   ]
  },
  {
   "attachments": {},
   "cell_type": "markdown",
   "metadata": {},
   "source": [
    "### Formation de l'image transformée"
   ]
  },
  {
   "cell_type": "code",
   "execution_count": 10,
   "metadata": {},
   "outputs": [],
   "source": [
    "def q2():\n",
    "    bus_mat = np.array(bus)\n",
    "    bus_mat_trans = homography(simp_mat, bus_mat, H)\n",
    "\n",
    "    bus_transf = Image.fromarray(np.uint8(bus_mat_trans))\n",
    "    return bus_transf\n"
   ]
  },
  {
   "cell_type": "code",
   "execution_count": 11,
   "metadata": {},
   "outputs": [],
   "source": [
    "\n",
    "bus_transf = q2()\n",
    "bus_transf.show()"
   ]
  },
  {
   "attachments": {},
   "cell_type": "markdown",
   "metadata": {},
   "source": [
    "## Question 3 : homographie de l'affiche du bus vers les simpsons"
   ]
  },
  {
   "cell_type": "code",
   "execution_count": 13,
   "metadata": {},
   "outputs": [],
   "source": [
    "\n",
    "xt1, yt1 = 210, 583\n",
    "xt2, yt2 = 231, 799\n",
    "xt3, yt3 = 520, 597\n",
    "xt4, yt4 = 469, 809\n",
    "coot = [[xt1, yt1], [xt3, yt3],[xt4, yt4], [xt2, yt2]]\n",
    "bus_mat = np.array(bus)\n",
    "\n",
    "# Fonction pour vérifier si un point est à l'intérieur d'un polygone\n",
    "def point_inside_polygon(x, y, poly):\n",
    "    n = len(poly)\n",
    "    \n",
    "    inside = False\n",
    "    p1x, p1y = poly[0]\n",
    "    for i in range(n + 1):\n",
    "        p2x, p2y = poly[i % n]\n",
    "        if y > min(p1y, p2y):\n",
    "            if y <= max(p1y, p2y):\n",
    "                if x <= max(p1x, p2x):\n",
    "                    if p1y != p2y:\n",
    "                        xinters = (y - p1y) * (p2x - p1x) / (p2y - p1y) + p1x\n",
    "                    if p1x == p2x or x <= xinters:\n",
    "                        inside = not inside\n",
    "        p1x, p1y = p2x, p2y\n",
    "    return inside\n",
    "\n",
    "    \n",
    "def q3() : \n",
    "    M = np.ones_like(bus_mat)\n",
    "    # Parcourir tous les pixels dans le rectangle englobant du polygone\n",
    "    for i in range(min(xt1, xt2, xt3, xt4), max(xt1, xt2, xt3, xt4)):\n",
    "        for j in range(min(yt1, yt2, yt3, yt4), max(yt1, yt2, yt3, yt4)):\n",
    "            if point_inside_polygon(i, j, coot):\n",
    "                coo = np.dot(np.linalg.inv(H), np.array([i,j,1]))\n",
    "                x,y = int(coo[0]/coo[2]), int(coo[1]/coo[2])\n",
    "                bus_mat[i,j] = simp_mat[x,y]\n",
    "\n",
    "    bus_img = Image.fromarray(np.uint8(bus_mat))\n",
    "    return bus_img\n"
   ]
  },
  {
   "cell_type": "code",
   "execution_count": 14,
   "metadata": {},
   "outputs": [],
   "source": [
    "bus_img = q3()\n",
    "bus_img.show()"
   ]
  },
  {
   "attachments": {},
   "cell_type": "markdown",
   "metadata": {},
   "source": [
    "## Portion de code pour calculer le temps moyen mis avec l'utilisation de chacune des deux méthodes"
   ]
  },
  {
   "cell_type": "code",
   "execution_count": 15,
   "metadata": {},
   "outputs": [],
   "source": [
    "def temps(f):\n",
    "    T=0\n",
    "    for k in range(100):\n",
    "        t1 = time()\n",
    "        f()\n",
    "        T+= time() - t1\n",
    "    return(T/100)\n"
   ]
  },
  {
   "cell_type": "code",
   "execution_count": 16,
   "metadata": {},
   "outputs": [],
   "source": [
    "print(temps(q2))\n",
    "print(temps(q3))"
   ]
  },
  {
   "cell_type": "code",
   "execution_count": null,
   "metadata": {},
   "outputs": [],
   "source": []
  }
 ],
 "metadata": {
  "kernelspec": {
   "display_name": "base",
   "language": "python",
   "name": "python3"
  },
  "language_info": {
   "codemirror_mode": {
    "name": "ipython",
    "version": 3
   },
   "file_extension": ".py",
   "mimetype": "text/x-python",
   "name": "python",
   "nbconvert_exporter": "python",
   "pygments_lexer": "ipython3",
   "version": "3.11.7"
  },
  "orig_nbformat": 4
 },
 "nbformat": 4,
 "nbformat_minor": 2
}
