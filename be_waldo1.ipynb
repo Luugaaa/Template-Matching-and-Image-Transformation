{
 "cells": [
  {
   "attachments": {},
   "cell_type": "markdown",
   "metadata": {},
   "source": []
  },
  {
   "attachments": {},
   "cell_type": "markdown",
   "metadata": {},
   "source": [
    "# Template Matching"
   ]
  },
  {
   "attachments": {},
   "cell_type": "markdown",
   "metadata": {},
   "source": [
    "## Librairies"
   ]
  },
  {
   "cell_type": "code",
   "execution_count": 1,
   "metadata": {},
   "outputs": [],
   "source": [
    "from PIL import Image\n",
    "import numpy as np\n",
    "from math import sqrt"
   ]
  },
  {
   "attachments": {},
   "cell_type": "markdown",
   "metadata": {},
   "source": [
    "## Images et Matrices"
   ]
  },
  {
   "cell_type": "code",
   "execution_count": 2,
   "metadata": {},
   "outputs": [],
   "source": [
    "\n",
    "waldo1 = Image.open('template1.png')\n",
    "waldo2 = Image.open('template2.png')\n",
    "\n",
    "park = Image.open('where_is_waldo.jpg')\n",
    "\n",
    "waldo_mat_1 = np.asarray(waldo1)\n",
    "waldo_mat_2 = np.asarray(waldo2)\n",
    "\n",
    "park_mat = np.asarray(park)"
   ]
  },
  {
   "attachments": {},
   "cell_type": "markdown",
   "metadata": {},
   "source": [
    "## Template Matching (questions 1 et 2)"
   ]
  },
  {
   "attachments": {},
   "cell_type": "markdown",
   "metadata": {},
   "source": [
    "### Calcul de distance (différence) entre deux pixels"
   ]
  },
  {
   "attachments": {},
   "cell_type": "markdown",
   "metadata": {},
   "source": [
    "Utile pour ne pas calculer le ssd quand le premier pixel n'est déjà pas bon. ATTENTION : ça peut être un problème l'image et/ou le template sont trop bruités (par exmple si le premier pixel du template est un pixel de bruit...). Ici ça marche assez bien même avec le template bruité."
   ]
  },
  {
   "cell_type": "code",
   "execution_count": 3,
   "metadata": {},
   "outputs": [],
   "source": [
    "def distance(pix1, pix2):\n",
    "    somme=0\n",
    "    for i, el in enumerate(pix1) :\n",
    "        somme += (el - pix2[i])**2\n",
    "    return sqrt(somme)"
   ]
  },
  {
   "attachments": {},
   "cell_type": "markdown",
   "metadata": {},
   "source": [
    "### Fonction pour calculer le ssd entre un template une portion de l'image à une certaine position"
   ]
  },
  {
   "cell_type": "code",
   "execution_count": 4,
   "metadata": {},
   "outputs": [],
   "source": [
    "def calculate_ssd(pos, template, img):\n",
    "    x,y = pos\n",
    "    \n",
    "    mat_ext = img[y:y+template.shape[0], x:x+template.shape[1]]\n",
    "    mat_dist = (mat_ext-template)**2\n",
    "    val_ssd = np.sum(mat_dist)\n",
    "    return val_ssd\n",
    "\n"
   ]
  },
  {
   "attachments": {},
   "cell_type": "markdown",
   "metadata": {},
   "source": [
    "### Fonction pour afficher le SSD sur toute l'image"
   ]
  },
  {
   "attachments": {},
   "cell_type": "markdown",
   "metadata": {},
   "source": [
    "NB : Cette fonction n'est pas utile mais c'est interessant de pouvoir voir le ssd sur toute l'image."
   ]
  },
  {
   "cell_type": "code",
   "execution_count": 5,
   "metadata": {},
   "outputs": [],
   "source": [
    "def ssd_maker(template_mat, img_mat):\n",
    "    ssd_mat = np.zeros((img_mat.shape[0], img_mat.shape[1]))\n",
    "    c=0\n",
    "    ssdmin = 1000000\n",
    "    for y,ligne in enumerate(img_mat) : \n",
    "        if y < 940 : \n",
    "            for x,pix in enumerate(ligne) : \n",
    "                if x<1550 :\n",
    "                    #c+=1\n",
    "                    ssd_mat[y][x] = calculate_ssd((x,y), template_mat, img_mat)\n",
    "                    ssdmin = min(ssdmin, calculate_ssd((x,y), template_mat, img_mat))\n",
    "\n",
    "    #ssd_gray = np.dot(ssd_mat[...,:3], [0.299, 0.587, 0.114])\n",
    "    m = np.max(ssd_mat)\n",
    "    ssd_mat = ssd_mat/m*255\n",
    "    ima = Image.fromarray(ssd_mat)\n",
    "    ima.show()\n"
   ]
  },
  {
   "cell_type": "code",
   "execution_count": 7,
   "metadata": {},
   "outputs": [],
   "source": [
    "ssd_maker(waldo_mat_1, park_mat)"
   ]
  },
  {
   "attachments": {},
   "cell_type": "markdown",
   "metadata": {},
   "source": [
    "### Fonction pour chercher un template dans une image"
   ]
  },
  {
   "cell_type": "code",
   "execution_count": 21,
   "metadata": {},
   "outputs": [],
   "source": [
    "\n",
    "def find_template(template, img_mat, threshold) :\n",
    "    ssdmin = np.inf\n",
    "    lim_x = img_mat.shape[0] - template.shape[0]\n",
    "    lim_y = img_mat.shape[1] - template.shape[1]\n",
    "\n",
    "    for y, ligne_img in enumerate(img_mat) : \n",
    "        if y < lim_x :\n",
    "            for x, pix_img in enumerate(ligne_img) :\n",
    "                if x < lim_y :\n",
    "                    threshold = threshold\n",
    "                    if distance(pix_img, template[0][0]) <= threshold:\n",
    "                        ssd_calculated = calculate_ssd((x,y), template, img_mat)\n",
    "\n",
    "                        if ssdmin > ssd_calculated : \n",
    "                            ssdmin = ssd_calculated\n",
    "                            coo = (x,y)\n",
    "    return coo\n",
    "            "
   ]
  },
  {
   "cell_type": "code",
   "execution_count": 27,
   "metadata": {},
   "outputs": [
    {
     "name": "stderr",
     "output_type": "stream",
     "text": [
      "/var/folders/y9/d18jjnw93dg7qrhmzqbxfgd00000gn/T/ipykernel_34526/3579178238.py:4: RuntimeWarning: overflow encountered in scalar subtract\n",
      "  somme += (el - pix2[i])**2\n"
     ]
    },
    {
     "name": "stdout",
     "output_type": "stream",
     "text": [
      "(1258, 75)\n",
      "(1258, 74)\n"
     ]
    }
   ],
   "source": [
    "#Waldo\n",
    "coo1 = find_template(waldo_mat_1, park_mat, threshold= 70)\n",
    "print(coo1)\n",
    "\n",
    "#Waldo bruité ==> besoin d'un threshold plus haut\n",
    "coo2 = find_template(waldo_mat_2, park_mat, threshold= 300)\n",
    "print(coo2)\n",
    "\n"
   ]
  },
  {
   "attachments": {},
   "cell_type": "markdown",
   "metadata": {},
   "source": [
    "### Fonction pour tracer un cercle autour du pattern"
   ]
  },
  {
   "cell_type": "code",
   "execution_count": 28,
   "metadata": {},
   "outputs": [],
   "source": [
    "from PIL import Image, ImageDraw\n",
    "\n",
    "def dessiner_cercle_autour_point(image, centre, template_mat):\n",
    "    image_rgba = image.convert(\"RGBA\")\n",
    "    \n",
    "    draw = ImageDraw.Draw(image_rgba)\n",
    "    \n",
    "    x, y = centre\n",
    "    x += template_mat.shape[0]/2\n",
    "    y += template_mat.shape[1]/2\n",
    "\n",
    "    rayon = 70\n",
    "    \n",
    "    x1, y1 = x - rayon + template_mat.shape[1]/2, y - rayon + template_mat.shape[0]/2\n",
    "    x2, y2 = x + rayon + template_mat.shape[1]/2, y + rayon + template_mat.shape[0]/2\n",
    "    \n",
    "    draw.ellipse((x1, y1, x2, y2), outline=\"black\", width=20)\n",
    "    draw.ellipse((x1, y1, x2, y2), outline=\"white\", width=13)\n",
    "    draw.ellipse((x1, y1, x2, y2), outline=\"red\", width=8)\n",
    "    draw.ellipse((x1, y1, x2, y2), outline=\"blue\", width=4)\n",
    "\n",
    "\n",
    "\n",
    "    \n",
    "    image_rgba.show()"
   ]
  },
  {
   "cell_type": "code",
   "execution_count": 29,
   "metadata": {},
   "outputs": [],
   "source": [
    "#dessiner_cercle_autour_point(park, coo1, waldo_mat_1)\n",
    "dessiner_cercle_autour_point(park, coo2, waldo_mat_2)"
   ]
  },
  {
   "cell_type": "code",
   "execution_count": null,
   "metadata": {},
   "outputs": [],
   "source": []
  }
 ],
 "metadata": {
  "kernelspec": {
   "display_name": "Python 3",
   "language": "python",
   "name": "python3"
  },
  "language_info": {
   "codemirror_mode": {
    "name": "ipython",
    "version": 3
   },
   "file_extension": ".py",
   "mimetype": "text/x-python",
   "name": "python",
   "nbconvert_exporter": "python",
   "pygments_lexer": "ipython3",
   "version": "3.11.7"
  },
  "orig_nbformat": 4
 },
 "nbformat": 4,
 "nbformat_minor": 2
}
